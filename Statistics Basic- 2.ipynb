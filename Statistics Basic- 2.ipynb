{
 "cells": [
  {
   "cell_type": "markdown",
   "id": "88e710c6-e89a-481d-907c-c43868768aa0",
   "metadata": {},
   "source": [
    "# Assignment:  Statistics Basic-2"
   ]
  },
  {
   "cell_type": "markdown",
   "id": "3ff1d285-1c43-4bea-9283-ba169ac5c655",
   "metadata": {},
   "source": [
    "Q1. What are the three measures of central tendency?"
   ]
  },
  {
   "cell_type": "markdown",
   "id": "7715e38f-4056-45bb-92b8-1d21115142a8",
   "metadata": {},
   "source": [
    "Solution: \n",
    "\n",
    "The three measures of Central Tendency are Mean, Median and Mode. They are used to describe the typical or central value of the dataset."
   ]
  },
  {
   "cell_type": "code",
   "execution_count": null,
   "id": "b7270655-b43f-4706-ade6-2d4f6d0b3521",
   "metadata": {},
   "outputs": [],
   "source": []
  },
  {
   "cell_type": "markdown",
   "id": "5fa09073-b402-49d9-96d6-a02f6b82f38b",
   "metadata": {},
   "source": [
    "Q2. What is the difference between the mean, median, and mode? How are they used to measure the\n",
    "central tendency of a dataset?"
   ]
  },
  {
   "cell_type": "markdown",
   "id": "7e939d5c-3c01-4566-bcd0-acfa6e3e858b",
   "metadata": {},
   "source": [
    "Solution: \n",
    "\n",
    "Mean aka Arithematic mean is the average of the values in a dataset, whereas Median is the middlemost value of the dataset. Mode is the repeatedly occuring value in the dataset. \n",
    "\n",
    "Mean is calculated by adding all the values in the dataset and then dividing the sum by the count of the values. Since mean takes account of every value, it is affected by outliers in the dataset.\n",
    "\n",
    "Median is calculated by arranging the data in ascending or descending order. If the data has an odd number of values, then the median is the middle value. If the data has a even number of values, then the median is the average of the two middle values.\n",
    "Since, median is less affected by outliers than the mean, thus it is considered a better option to calculate the central tendency of a dataset with outliers in it.\n",
    "\n",
    "Mode is the value that appears most frequently in the dataset. For a dataset, the mode can be only one, twice and so on. Similarly, sometimes a dataset can have no mode at all. Mode is particularly useful with qualitative datasets. As of a drawback, mode particularly cannot provide a complete representation of the central tendency of the dataset.\n",
    "\n",
    "The choice of measurement of the central tendency, and how it have to be calculated is based on the insights and the findings required."
   ]
  },
  {
   "cell_type": "code",
   "execution_count": null,
   "id": "52571651-cd43-441b-98ce-e9eb9312d5d5",
   "metadata": {},
   "outputs": [],
   "source": []
  },
  {
   "cell_type": "markdown",
   "id": "13316250-20d2-4751-984a-e5aa9bc40f02",
   "metadata": {},
   "source": [
    "Q3. Measure the three measures of central tendency for the given height data:\n",
    "\n",
    "[178,177,176,177,178.2,178,175,179,180,175,178.9,176.2,177,172.5,178,176.5]"
   ]
  },
  {
   "cell_type": "code",
   "execution_count": 2,
   "id": "9dbd5f24-0dd9-4643-8453-9b4184fe0a26",
   "metadata": {},
   "outputs": [
    {
     "name": "stdout",
     "output_type": "stream",
     "text": [
      "Mean =    177.01875\n",
      "Median =  177.0\n",
      "Mode =    ModeResult(mode=array([177.]), count=array([3]))\n"
     ]
    },
    {
     "name": "stderr",
     "output_type": "stream",
     "text": [
      "/tmp/ipykernel_435/3712954783.py:8: FutureWarning: Unlike other reduction functions (e.g. `skew`, `kurtosis`), the default behavior of `mode` typically preserves the axis it acts along. In SciPy 1.11.0, this behavior will change: the default value of `keepdims` will become False, the `axis` over which the statistic is taken will be eliminated, and the value None will no longer be accepted. Set `keepdims` to True or False to avoid this warning.\n",
      "  print(\"Mode =   \", stats.mode(data))\n"
     ]
    }
   ],
   "source": [
    "# Solution: \n",
    "\n",
    "import numpy as npy\n",
    "from scipy import stats\n",
    "data= [178,177,176,177,178.2,178,175,179,180,175,178.9,176.2,177,172.5,178,176.5]\n",
    "print(\"Mean =   \", npy.mean(data))\n",
    "print(\"Median = \", npy.median(data))\n",
    "print(\"Mode =   \", stats.mode(data))"
   ]
  },
  {
   "cell_type": "code",
   "execution_count": null,
   "id": "0cc9a456-9902-43a2-bb79-c53596257012",
   "metadata": {},
   "outputs": [],
   "source": []
  },
  {
   "cell_type": "markdown",
   "id": "4ab0d135-4e7d-4e16-b7cb-ece2ae55441a",
   "metadata": {},
   "source": [
    "Q4. Find the standard deviation for the given data:\n",
    "\n",
    "[178,177,176,177,178.2,178,175,179,180,175,178.9,176.2,177,172.5,178,176.5]"
   ]
  },
  {
   "cell_type": "code",
   "execution_count": 9,
   "id": "f399c26d-16cb-4487-b580-20e36c3745f3",
   "metadata": {},
   "outputs": [
    {
     "data": {
      "text/plain": [
       "1.7885814036548633"
      ]
     },
     "execution_count": 9,
     "metadata": {},
     "output_type": "execute_result"
    }
   ],
   "source": [
    "# Solution: \n",
    "\n",
    "import numpy as npy\n",
    "data = [178,177,176,177,178.2,178,175,179,180,175,178.9,176.2,177,172.5,178,176.5]\n",
    "npy.std(data)\n"
   ]
  },
  {
   "cell_type": "code",
   "execution_count": null,
   "id": "fb447d4b-b595-400e-a7b2-cc249c5f75ad",
   "metadata": {},
   "outputs": [],
   "source": []
  },
  {
   "cell_type": "markdown",
   "id": "31d79905-e408-4bf0-a00d-fe734f204b7b",
   "metadata": {},
   "source": [
    "Q5. How are measures of dispersion such as range, variance, and standard deviation used to describe\n",
    "the spread of a dataset? Provide an example."
   ]
  },
  {
   "cell_type": "markdown",
   "id": "45b1ab58-524c-4f27-b703-2cf985877d09",
   "metadata": {},
   "source": [
    "Solution:  \n",
    "\n",
    "Measures of dispersion such as range, variance and standard deviation are used to describe how spread out or dispersed the values in a dataset are. The measure of dispersion allows us to understand how much the individual data points deviate from the measure of central tendency i.e. Mean, Median.\n",
    "\n",
    "- Range: \n",
    "Range represents the difference between the maximum and minimum value in the dataset.\n",
    "\n",
    "Mathematically:\n",
    "\n",
    "Range = Maximum Value-Minimum Value\n",
    "\n",
    "- Variance:\n",
    "Variance describes how much the data point has deviated from the mean of the dataset. It is the average of the squared differences between each point in the data and the mean.\n",
    "\n",
    "Mathematically:\n",
    "\n",
    "Variance (σ²) = Σ (xi - μ)² / N\n",
    "\n",
    "Where, \n",
    "xi is each data point\n",
    "\n",
    "μ is the mean\n",
    "\n",
    "N is the number of data points\n",
    "\n",
    "- Standard deviation:\n",
    "Standard deviation provides the measure of how spread out the data is from the mean and it also quantifies the deviation in the term of orginal units. It is the square root of variance.\n",
    "\n",
    "Mathematically: \n",
    "\n",
    "Standard Deviation (σ) = √ Variance \n"
   ]
  },
  {
   "cell_type": "code",
   "execution_count": 19,
   "id": "9e52ebd6-b7ae-4305-afd2-9701d8ef47c0",
   "metadata": {},
   "outputs": [
    {
     "name": "stdout",
     "output_type": "stream",
     "text": [
      "Range :    6\n",
      "Variance : 4.0\n",
      "Standard Deviation: 2.0\n"
     ]
    }
   ],
   "source": [
    "# Example:\n",
    "import numpy as npy\n",
    "data=  [28, 31, 29, 27, 30, 26, 32]\n",
    "print(\"Range :   \", npy.ptp(data))  \n",
    "print(\"Variance :\", npy.var(data))\n",
    "print(\"Standard Deviation:\", npy.std(data))"
   ]
  },
  {
   "cell_type": "markdown",
   "id": "f5955917-58a3-4ff0-a840-07e02195d49c",
   "metadata": {},
   "source": [
    "Q6. What is a Venn diagram?"
   ]
  },
  {
   "cell_type": "markdown",
   "id": "c9904118-744f-4ccc-af24-1271a53b326f",
   "metadata": {},
   "source": [
    "Solution: \n",
    "\n",
    "A Venn diagram is an illustration that uses circles to show the relationships among things or finite groups of things. Circles that overlap have a commonality while circles that do not overlap do not share those traits."
   ]
  },
  {
   "cell_type": "code",
   "execution_count": null,
   "id": "7d37a848-2ff8-4c85-a654-67a0674c486d",
   "metadata": {},
   "outputs": [],
   "source": []
  },
  {
   "cell_type": "markdown",
   "id": "d55e1701-5092-4ff0-914c-2454df85a61c",
   "metadata": {},
   "source": [
    "Q7. For the two given sets A = (2,3,4,5,6,7) & B = (0,2,6,8,10). Find:\n",
    "\n",
    "(i)  A ∩ B\n",
    "(ii) A ∪ B"
   ]
  },
  {
   "cell_type": "markdown",
   "id": "700419d0-b930-44b9-8143-8782834a3e92",
   "metadata": {},
   "source": [
    "Solution:  \n",
    "    \n",
    "A ∩ B = (2,6)\n",
    "\n",
    "A ∪ B = (0,2,3,4,5,6,7,8,10)"
   ]
  },
  {
   "cell_type": "code",
   "execution_count": null,
   "id": "aad5a3ec-43e2-4b2b-9ab5-7caa9d82203e",
   "metadata": {},
   "outputs": [],
   "source": []
  },
  {
   "cell_type": "markdown",
   "id": "65a64f62-da47-4a05-ba20-dd462fc319af",
   "metadata": {},
   "source": [
    "Q8. What do you understand about skewness in data?"
   ]
  },
  {
   "cell_type": "markdown",
   "id": "2d01ae78-3367-42cd-81fe-84999e5654f0",
   "metadata": {},
   "source": [
    "Solution: \n",
    "\n",
    "Skewness is the measure of assymetricity in a distribution. Skewnwess can be of two types. Left Skewed or Right Skewed.\n",
    "Right skewness is also known as positive skewness or log normal distribution.\n",
    "\n",
    "In Right Skewness & Left Skewness, the relationship between mean, median and mode is as follows:\n",
    "\n",
    "Right Skewness: Mean > Median > Mode\n",
    "\n",
    "Left  Skewness: Mean < Median < Mode"
   ]
  },
  {
   "cell_type": "code",
   "execution_count": null,
   "id": "c29c6c3a-47b2-46a7-b4ca-123d67c09e5f",
   "metadata": {},
   "outputs": [],
   "source": []
  },
  {
   "cell_type": "markdown",
   "id": "f2529cbd-7c7f-4521-83b9-980e3f7bdb3c",
   "metadata": {},
   "source": [
    "Q9. If a data is right skewed then what will be the position of median with respect to mean?"
   ]
  },
  {
   "cell_type": "markdown",
   "id": "24db2270-af52-48d3-a235-29841b4f0daf",
   "metadata": {},
   "source": [
    "Solution: \n",
    "\n",
    "If a data is right skewed, with respect to mean, the median is often lower than the mean. \n",
    "In easy way, in a right skewed data, the Mean is greater then Median and the Median is greater than Mode.\n",
    "\n",
    "Mean > Median > Mode\n",
    "\n",
    "Numerically, the value of Mode will be the least, followed by Median and then Mode, when plotted on a graph."
   ]
  },
  {
   "cell_type": "code",
   "execution_count": null,
   "id": "dfb00c1e-6cc2-4ce6-acab-f511649070c3",
   "metadata": {},
   "outputs": [],
   "source": []
  },
  {
   "cell_type": "markdown",
   "id": "0847469b-c773-463f-93cf-606bcfd3ad11",
   "metadata": {},
   "source": [
    "Q10. Explain the difference between covariance and correlation. How are these measures used in\n",
    "statistical analysis?"
   ]
  },
  {
   "cell_type": "markdown",
   "id": "b1474ae0-e154-4d25-8a31-e38038992b0b",
   "metadata": {},
   "source": [
    "Solution:\n",
    "\n",
    "#### Covariance:\n",
    "- It talks about the direction of the linear relationship between the two variables (positive or negative).\n",
    "- Value lies between - infinity to + infinity, and , are not standard.\n",
    "- It is affected by the scale of variability.\n",
    "- Positive number being positive relationship and negative number being negative relationship.\n",
    "\n",
    "#### Correlation: \n",
    "- It is said to be a correlation between variables if change in one variable results in the change in another.\n",
    "- Value lies between -1 to +1,  and , are standard.\n",
    "- It indicates direction and strength of linear relationship.\n",
    "- Positive correlation coefficient close to 1 or itself 1 indicates a strong positive correlation and the value close to +1 or    -1 indicates strong negative correlation.\n",
    "- It is not affected by the scale of variability.\n",
    "\n",
    "\n",
    "\n",
    "Understanding the relationship between variables through covariance and correlation can guide decision-making, hypothesis testing, and model building in various fields of study and practical applications."
   ]
  },
  {
   "cell_type": "code",
   "execution_count": null,
   "id": "52a6276c-4dbb-464d-8782-82c227cd9aa8",
   "metadata": {},
   "outputs": [],
   "source": []
  },
  {
   "cell_type": "markdown",
   "id": "df568636-18b8-4734-9104-18cbdb2c043a",
   "metadata": {},
   "source": [
    "Q11. What is the formula for calculating the sample mean? Provide an example calculation for a\n",
    "dataset."
   ]
  },
  {
   "cell_type": "markdown",
   "id": "731e1eb8-d607-4c57-9b3b-c614834376fb",
   "metadata": {},
   "source": [
    "Solution: \n",
    "Sample Mean is denoted by \"S\".\n",
    "The formula for calculation of sample mean is as follows:\n",
    "S = Sum of terms / Number of terms\n",
    "  = Σ xi / n\n",
    "  = (x1 + x2 + x3 + x4 + ... xn) / n\n",
    "  \n",
    "Here, xi is the all the sample values and n is the number of sample terms in the dataset.\n",
    "\n",
    "\n",
    "##### Eg: [60,55,85,75,68]\n",
    "\n",
    "Sum = 343\n",
    "\n",
    "Number of terms = 5\n",
    "\n",
    "Sample Mean = 68.6\n"
   ]
  },
  {
   "cell_type": "code",
   "execution_count": null,
   "id": "bb832930-9514-49c7-bcd2-cb962ec02cad",
   "metadata": {},
   "outputs": [],
   "source": []
  },
  {
   "cell_type": "markdown",
   "id": "e57ab8f9-8739-40c4-a730-dc7b61285c1c",
   "metadata": {},
   "source": [
    "Q12. For a normal distribution data what is the relationship between its measure of central tendency?"
   ]
  },
  {
   "cell_type": "markdown",
   "id": "8f8b5adb-409b-43d8-ad94-b57dd1e4fe4c",
   "metadata": {},
   "source": [
    "Solution: For a normal distribution data, the mean, mode and the median, are equal / exactly same. "
   ]
  },
  {
   "cell_type": "code",
   "execution_count": null,
   "id": "5a8cc837-962e-47a8-9171-d1b2221125b2",
   "metadata": {},
   "outputs": [],
   "source": []
  },
  {
   "cell_type": "markdown",
   "id": "696482e2-f07e-4b86-b7a0-54bcd40cfb94",
   "metadata": {},
   "source": [
    "Q13. How is covariance different from correlation?"
   ]
  },
  {
   "cell_type": "markdown",
   "id": "34839486-b617-4772-b51a-67bc024dfd9b",
   "metadata": {},
   "source": [
    "Solution: \n",
    "\n",
    "#### Covariance:\n",
    "- It talks about the direction of the linear relationship between the two variables (positive or negative).\n",
    "- Value lies between - infinity to + infinity, and , are not standard.\n",
    "- It is affected by the scale of variability.\n",
    "- Positive number being positive relationship and negative number being negative relationship.\n",
    "\n",
    "#### Correlation: \n",
    "- It is said to be a correlation between variables if change in one variable results in the change in another.\n",
    "- Value lies between -1 to +1,  and , are standard.\n",
    "- It indicates direction and strength of linear relationship.\n",
    "- Positive correlation coefficient close to 1 or itself 1 indicates a strong positive correlation and the value close to   +1 or -1 indicates strong negative correlation.\n",
    "- It is not affected by the scale of variability.\n"
   ]
  },
  {
   "cell_type": "code",
   "execution_count": null,
   "id": "088e5594-865d-48e3-a257-30232dfb85d7",
   "metadata": {},
   "outputs": [],
   "source": []
  },
  {
   "cell_type": "markdown",
   "id": "1341a377-b75d-4e5e-85ac-078415915dac",
   "metadata": {},
   "source": [
    "Q14. How do outliers affect measures of central tendency and dispersion? Provide an example."
   ]
  },
  {
   "cell_type": "markdown",
   "id": "e1f3935f-e618-4a01-af2e-a2f5bc4b06c7",
   "metadata": {},
   "source": [
    "Solution: \n",
    "\n",
    "Outliers are data points that are very different from the rest of the data, either their value is way too large, or way too small. The outliers can disrupt as well as distort the overall charachterstics of the dataset.\n",
    "\n",
    "Measures of Central Tendency contains: Mean, Median and Mode\n",
    "Measures of Dispersion contains : Range, Variance and Standard Deviation\n",
    "\n",
    "- Mean: Affected abruptly by outliers. \n",
    "\n",
    "Example: Employees in a company earn between 40,000₹ and 80,000₹. The salary of the CEO is 8,00,000₹. Thus the average salary of the employees changes drastically.\n",
    "\n",
    "\n",
    "- Median: Since, median is the middle value, it is much ordered than mean. Thus, with outliers, it is slightly affected compared to the mean. Outliers can shift the median to a small count.\n",
    "\n",
    "Example: The median would be less affected by the outlier CEO's salary. It would still fall within the range of the majority of employee salaries.\n",
    "\n",
    "- Mode: Since, mode represents the most occuring value, it is generally not affected by outliers, since mode is dependent on the frequency, not on the magnitude.\n",
    "\n",
    "Example: Let us suppose that 25 employees out of 100 have a salary of 55,000₹, and the left 75 employees has variable salary. Thus, mode will be 55,000₹,  regardless of the salary of CEO.\n",
    "\n",
    "- Range: Since, range is the difference between the maximum value and the minimum value, the outliers can abruptly distrupt the range. With outliers, range cannot accurately reflect the spread of the majority of data points.\n",
    "\n",
    "Example: The Range, considering the salary of CEO will be much larger, whereas the range excluding the CEO's salary will be comparably smaller.\n",
    "\n",
    "- Variance & Standard deviation: Since, both Variance & Standard Deviation quantify the spread of the data points around the mean, outliers can abruptly affect the calculations of variance and standard deviation.\n",
    "\n",
    "Example: The presence of the CEO's outlier salary would lead to a much larger variance and standard deviation, indicating a higher degree of variability in salaries than is actually present among the employees.\n",
    "\n",
    "\n",
    "##### In short, Mean, Range, Variance and Standard Deviation are affected alot by the presence of outliers."
   ]
  },
  {
   "cell_type": "code",
   "execution_count": null,
   "id": "45317066-fad6-4208-9c83-425a20fa1c8b",
   "metadata": {},
   "outputs": [],
   "source": []
  }
 ],
 "metadata": {
  "kernelspec": {
   "display_name": "Python 3 (ipykernel)",
   "language": "python",
   "name": "python3"
  },
  "language_info": {
   "codemirror_mode": {
    "name": "ipython",
    "version": 3
   },
   "file_extension": ".py",
   "mimetype": "text/x-python",
   "name": "python",
   "nbconvert_exporter": "python",
   "pygments_lexer": "ipython3",
   "version": "3.10.8"
  }
 },
 "nbformat": 4,
 "nbformat_minor": 5
}
