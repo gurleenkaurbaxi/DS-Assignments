{
 "cells": [
  {
   "cell_type": "markdown",
   "id": "5788c32b-9d8a-4c35-9ec3-ed1be79dc58e",
   "metadata": {},
   "source": [
    "Q1. Create one variable containing following type of data:\n",
    "(i) string\n",
    "(ii) list\n",
    "(iii) float\n",
    "(iv) tuple"
   ]
  },
  {
   "cell_type": "code",
   "execution_count": 2,
   "id": "9c6af7a7-3879-4866-b156-97f3596e58b0",
   "metadata": {},
   "outputs": [
    {
     "name": "stdout",
     "output_type": "stream",
     "text": [
      "hello world\n",
      "[13, 7, 13.72, 'hello world', ['apple', 'litchi', 'kiwi', 'rice', 'lime']]\n"
     ]
    },
    {
     "name": "stdout",
     "output_type": "stream",
     "text": [
      "Enter a float value 13.1\n"
     ]
    },
    {
     "name": "stdout",
     "output_type": "stream",
     "text": [
      "13.1\n",
      "7.23\n",
      "(13.5, 12, 156, 'Python', ('Apple', 'Litchi'))\n"
     ]
    }
   ],
   "source": [
    "# (i) \n",
    "s = \"hello world\"\n",
    "print(s)\n",
    "\n",
    "# (ii)\n",
    "l= [13, 7 , 13.72, \"hello world\", [\"apple\",\"litchi\",\"kiwi\",\"rice\",\"lime\"]]\n",
    "print(l)\n",
    "\n",
    "# (iii)\n",
    "f= float(input(\"Enter a float value\"))\n",
    "print(f)\n",
    "f1 = 7.23\n",
    "print(f1)\n",
    "\n",
    "# (iv)\n",
    "t=( 13.5, 12, 156, \"Python\", ( \"Apple\", \"Litchi\") )\n",
    "print(t)"
   ]
  },
  {
   "cell_type": "markdown",
   "id": "de2c4d8a-7735-405f-9231-d5b525c05ff5",
   "metadata": {},
   "source": [
    "Q2. Given are some following variables containing data:\n",
    "(i) var1 = ‘ ‘\n",
    "(ii) var2 = ‘[ DS , ML , Python]’\n",
    "(iii) var3 = [ ‘DS’ , ’ML’ , ‘Python’ ]\n",
    "(iv) var4 = 1.\n",
    "\n",
    "\n",
    "ans (1): string\n",
    "ans (2): string\n",
    "ans (3): list\n",
    "ans (4): float"
   ]
  },
  {
   "cell_type": "raw",
   "id": "90504ff5-0257-497f-a321-751f2a347c2d",
   "metadata": {},
   "source": [
    "Q3. Explain the use of the following operators using an example:\n",
    "(i) /\n",
    "(ii) %\n",
    "(iii) //\n",
    "(iv) **"
   ]
  },
  {
   "cell_type": "code",
   "execution_count": 3,
   "id": "1e675a71-a412-40db-b332-ac128f56012c",
   "metadata": {},
   "outputs": [
    {
     "name": "stdout",
     "output_type": "stream",
     "text": [
      "4.0\n"
     ]
    }
   ],
   "source": [
    "# (i) /  Divivsion: Divides the number and returns the quotient in floating point value. \n",
    "\n",
    "a = 12/3\n",
    "print(a)"
   ]
  },
  {
   "cell_type": "code",
   "execution_count": 4,
   "id": "b7385ea4-abf9-4c01-8c19-0392be9b0519",
   "metadata": {},
   "outputs": [
    {
     "name": "stdout",
     "output_type": "stream",
     "text": [
      "5.0\n"
     ]
    }
   ],
   "source": [
    "# (ii) % Modulus : Modulus function is used to divide the number and returns the remainder in floating point value.\n",
    "\n",
    "b = 15/3\n",
    "print(b)"
   ]
  },
  {
   "cell_type": "code",
   "execution_count": 5,
   "id": "619fd13f-49cf-4f37-8967-aa845354c58e",
   "metadata": {},
   "outputs": [
    {
     "name": "stdout",
     "output_type": "stream",
     "text": [
      "3\n"
     ]
    }
   ],
   "source": [
    "# (iii) // floor division : Floor division  is used to divide the number and returns the nearest integer \n",
    "\n",
    "c= 16//5\n",
    "print(c)"
   ]
  },
  {
   "cell_type": "code",
   "execution_count": 1,
   "id": "48c41033-3e42-4986-a5b8-0f8b7e568636",
   "metadata": {},
   "outputs": [
    {
     "name": "stdout",
     "output_type": "stream",
     "text": [
      "8\n"
     ]
    }
   ],
   "source": [
    "# (iv) ** Exponential : Exponential is used to calculate \"raise to the power\"\n",
    "\n",
    "d= 2**3\n",
    "print(d)"
   ]
  },
  {
   "cell_type": "markdown",
   "id": "511759ea-f8a8-464f-912c-b819f95ccb0e",
   "metadata": {},
   "source": [
    "Q4. Create a list of length 10 of your choice containing multiple types of data. Using for loop print the element and its data type."
   ]
  },
  {
   "cell_type": "code",
   "execution_count": 2,
   "id": "bfa7e1e0-f5d9-4903-af85-93d088d59b89",
   "metadata": {},
   "outputs": [
    {
     "name": "stdout",
     "output_type": "stream",
     "text": [
      "Elements are : 13           datatype : <class 'int'>\n",
      "Elements are : 7           datatype : <class 'int'>\n",
      "Elements are : 13.72           datatype : <class 'float'>\n",
      "Elements are : hello world           datatype : <class 'str'>\n",
      "Elements are : True           datatype : <class 'bool'>\n",
      "Elements are : False           datatype : <class 'bool'>\n",
      "Elements are : pwskills           datatype : <class 'str'>\n",
      "Elements are : python           datatype : <class 'str'>\n",
      "Elements are : 11           datatype : <class 'int'>\n",
      "Elements are : 5           datatype : <class 'int'>\n"
     ]
    }
   ],
   "source": [
    "l= [13, 7 , 13.72, \"hello world\", True, False, \"pwskills\", \"python\", 11, 5]\n",
    "for i in l:\n",
    "    print(\"Elements are :\" , i, \"         \", \"datatype :\" , type(i))\n",
    "    "
   ]
  },
  {
   "cell_type": "markdown",
   "id": "d46a4e67-0502-47f3-9f67-973eb279055a",
   "metadata": {},
   "source": [
    "Q5. Using a while loop, verify if the number A is purely divisible by number B and if so then how many times it can be divisible."
   ]
  },
  {
   "cell_type": "code",
   "execution_count": 3,
   "id": "bf2afa16-94cb-4a36-bfa4-6b8edf77b5c9",
   "metadata": {},
   "outputs": [
    {
     "name": "stdout",
     "output_type": "stream",
     "text": [
      "Enter number A, to be divided 12\n",
      "Enter number B, by which A will be divided 3\n"
     ]
    },
    {
     "name": "stdout",
     "output_type": "stream",
     "text": [
      "A is purely divisible by B and it can be divided 1 time(s)\n"
     ]
    }
   ],
   "source": [
    "a= int(input(\"Enter number A, to be divided\"))\n",
    "b= int(input(\"Enter number B, by which A will be divided\"))\n",
    "count=0\n",
    "\n",
    "while a % b == 0:\n",
    "    a = a // b\n",
    "    count += 1\n",
    "\n",
    "if count >= 1:\n",
    "    print(\"A is purely divisible by B and it can be divided\", count, \"time(s)\")\n",
    "else:\n",
    "    print(\"A is not purely divisible b\")"
   ]
  },
  {
   "cell_type": "markdown",
   "id": "04a324ec-39a0-4653-91bf-81906e99e4ff",
   "metadata": {},
   "source": [
    "Q6. Create a list containing 25 int type data. Using for loop and if-else condition print if the element is divisible by 3 or not."
   ]
  },
  {
   "cell_type": "code",
   "execution_count": 13,
   "id": "9fd6001e-6dec-45b5-b4e6-51df2fafb8d1",
   "metadata": {},
   "outputs": [
    {
     "name": "stdout",
     "output_type": "stream",
     "text": [
      "Element: 3                       Element is divisible by 3\n",
      "Element : 5                      Element is not divisible by 3\n",
      "Element: 6                       Element is divisible by 3\n",
      "Element : 7                      Element is not divisible by 3\n",
      "Element: 9                       Element is divisible by 3\n",
      "Element : 11                      Element is not divisible by 3\n",
      "Element: 12                       Element is divisible by 3\n",
      "Element : 13                      Element is not divisible by 3\n",
      "Element: 15                       Element is divisible by 3\n",
      "Element : 17                      Element is not divisible by 3\n",
      "Element: 18                       Element is divisible by 3\n",
      "Element : 19                      Element is not divisible by 3\n",
      "Element: 21                       Element is divisible by 3\n",
      "Element : 23                      Element is not divisible by 3\n",
      "Element: 24                       Element is divisible by 3\n",
      "Element : 25                      Element is not divisible by 3\n",
      "Element: 27                       Element is divisible by 3\n",
      "Element : 29                      Element is not divisible by 3\n",
      "Element: 30                       Element is divisible by 3\n",
      "Element : 31                      Element is not divisible by 3\n",
      "Element: 33                       Element is divisible by 3\n",
      "Element : 35                      Element is not divisible by 3\n",
      "Element: 36                       Element is divisible by 3\n",
      "Element : 38                      Element is not divisible by 3\n",
      "Element: 39                       Element is divisible by 3\n"
     ]
    }
   ],
   "source": [
    "l= [3,5,6,7,9,11,12,13,15,17,18,19,21,23,24,25,27,29,30,31,33,35,36,38,39]\n",
    "for i in l :\n",
    "    if i % 3 == 0:\n",
    "        print(\"Element:\", i,\"                     \",\"Element is divisible by 3\")\n",
    "    else:\n",
    "        print(\"Element :\", i,\"                    \",\"Element is not divisible by 3\")"
   ]
  },
  {
   "cell_type": "markdown",
   "id": "e4c2ae22-11a8-4a1d-ae4d-c308f7978cc4",
   "metadata": {},
   "source": [
    "Q7. What do you understand about mutable and immutable data types? Give examples for both showing this property."
   ]
  },
  {
   "cell_type": "markdown",
   "id": "4319364f-234e-4dc1-bae3-e0179478f151",
   "metadata": {},
   "source": [
    "Mutable data types are those data types whose elements can be assesed and updations  or changes can be made in the data at a given particular point. Example of such data types are lists, dictionaries, tuples.\n",
    "Immutable data types are those data types whose elements cannot be assesed and no updations or changes can be made in the data a given particular point. Example of such data types are string.When trying to update the value of immutable data types, error ('str' object has no attribute 'append' )can be seen."
   ]
  },
  {
   "cell_type": "code",
   "execution_count": 17,
   "id": "de642bc4-5edd-408f-860e-27091a527580",
   "metadata": {},
   "outputs": [
    {
     "name": "stdout",
     "output_type": "stream",
     "text": [
      "Old list without updation [5, 6, 7, 8]\n",
      "New list with updation [5, 6, 7, 8, 9]\n"
     ]
    }
   ],
   "source": [
    "# Mutable data type example\n",
    "\n",
    "l=[5,6,7,8]\n",
    "print(\"Old list without updation\", l)\n",
    "l.append(9)\n",
    "print(\"New list with updation\", l)"
   ]
  },
  {
   "cell_type": "code",
   "execution_count": 19,
   "id": "43486045-fdc5-434c-90cc-8cba992357e7",
   "metadata": {},
   "outputs": [
    {
     "name": "stdout",
     "output_type": "stream",
     "text": [
      "python\n"
     ]
    },
    {
     "ename": "AttributeError",
     "evalue": "'str' object has no attribute 'append'",
     "output_type": "error",
     "traceback": [
      "\u001b[0;31m---------------------------------------------------------------------------\u001b[0m",
      "\u001b[0;31mAttributeError\u001b[0m                            Traceback (most recent call last)",
      "Cell \u001b[0;32mIn[19], line 5\u001b[0m\n\u001b[1;32m      3\u001b[0m s\u001b[38;5;241m=\u001b[39m \u001b[38;5;124m\"\u001b[39m\u001b[38;5;124mpython\u001b[39m\u001b[38;5;124m\"\u001b[39m\n\u001b[1;32m      4\u001b[0m \u001b[38;5;28mprint\u001b[39m(s)\n\u001b[0;32m----> 5\u001b[0m \u001b[43ms\u001b[49m\u001b[38;5;241;43m.\u001b[39;49m\u001b[43mappend\u001b[49m(\u001b[38;5;124m\"\u001b[39m\u001b[38;5;124mpikachu\u001b[39m\u001b[38;5;124m\"\u001b[39m)\n",
      "\u001b[0;31mAttributeError\u001b[0m: 'str' object has no attribute 'append'"
     ]
    }
   ],
   "source": [
    "# Immutable data type example\n",
    "\n",
    "s= \"python\"\n",
    "print(s)\n",
    "s.append(\"pikachu\")"
   ]
  },
  {
   "cell_type": "raw",
   "id": "840fc00f-6b0b-475a-8195-736631d7d103",
   "metadata": {},
   "source": [
    "----------------------------------------------------------------------------------------- END --------------------------------------------------------------------------------------------------------------"
   ]
  }
 ],
 "metadata": {
  "kernelspec": {
   "display_name": "Python 3 (ipykernel)",
   "language": "python",
   "name": "python3"
  },
  "language_info": {
   "codemirror_mode": {
    "name": "ipython",
    "version": 3
   },
   "file_extension": ".py",
   "mimetype": "text/x-python",
   "name": "python",
   "nbconvert_exporter": "python",
   "pygments_lexer": "ipython3",
   "version": "3.10.8"
  }
 },
 "nbformat": 4,
 "nbformat_minor": 5
}
