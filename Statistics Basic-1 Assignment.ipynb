{
 "cells": [
  {
   "cell_type": "markdown",
   "id": "295019d7-d190-4b7d-908d-784096283e47",
   "metadata": {},
   "source": [
    "Q1. What is Statistics?"
   ]
  },
  {
   "cell_type": "markdown",
   "id": "1b8a2bd6-c3f7-42dc-b620-acb7da63f7ec",
   "metadata": {},
   "source": [
    "Solution: \n",
    "\n",
    "Statistics is the science of collecting, organising and analyzing the data. \n",
    "The collection of data is based on some measurement scale, and upon requirements of the scenario.\n",
    "Organization is basically organising the data in a better structure, according to the requirement and the action required to perform.\n",
    "Analyzation of Data happens out of the organised data, and making conclusions and decisions after analyzing the facts retrived out of the well-organised data.\n",
    "The main aim of using statistics is to form conclusions and spot facts out of the data."
   ]
  },
  {
   "cell_type": "code",
   "execution_count": null,
   "id": "8c86363a-3f05-42f4-a542-66e2a31992b8",
   "metadata": {},
   "outputs": [],
   "source": []
  },
  {
   "cell_type": "markdown",
   "id": "72b988ac-cb77-4eed-b084-2efc0597dcae",
   "metadata": {},
   "source": [
    "Q2. Define the different types of statistics and give an example of when each type might be used."
   ]
  },
  {
   "cell_type": "markdown",
   "id": "47cc7539-de41-443e-b983-1a7210e325cf",
   "metadata": {},
   "source": [
    "Solution: \n",
    "\n",
    "There are two types of statistics, first is Descriptive Stats and the second is Inferential Stats.\n",
    "\n",
    "Descriptive Stats is a method of organising and summerizing data. \n",
    "Furthermore, descriptive stats can be divided into three forms.\n",
    "a) Measure of Central Tendency : This consists calculating mean, median and mode of the data.\n",
    "b) Measure of Dispersian: This consists calculating the standard deviation and the variance of the data.\n",
    "c) Summerizing the Data: This consists of summerizing the data in the form of plots like histograms, bar-graphs, pie-charts.\n",
    "\n",
    "Inferential Statistics is the method of finding conclusions out of the recorded data.\n",
    "Different experiments are used to find conclusions, eg. Z-test, t-test, hypothesis testing, etc.\n",
    "\n",
    "Example: \n",
    "\n",
    "Let us assume that a small survey for the marks scored out of 100 in a school took place, in which 10 students participated.. The data collected is as follows.\n",
    "\n",
    "Data= [90, 85, 77, 98, 63, 53, 49,77,35,88]\n",
    "\n",
    "If we try finding out mean/mode/median out of this data, it will be a form of Descriptive Stats and the central tendency is meansured here.\n",
    "Similarly, if standard deviation or variance is calculated, it will be again a form of Descriptive Stats, but dispersian is measured here, and different forms of plots can also be prepared. The plots formed will also fall under the category of Discriptive Stats.\n",
    "\n",
    "If we can try finding the expected marks of all the students based on this sample data, we will be trying to make conclusions out of sample data for the whole group of students, thus we can say it as an example of inferential stats."
   ]
  },
  {
   "cell_type": "code",
   "execution_count": null,
   "id": "2992a95b-d1fc-4486-b7f4-09a48dd7d916",
   "metadata": {},
   "outputs": [],
   "source": []
  },
  {
   "cell_type": "markdown",
   "id": "d3c99379-078f-457e-862d-7872cee3dcce",
   "metadata": {},
   "source": [
    "Q3. What are the different types of data and how do they differ from each other? Provide an example of each type of data."
   ]
  },
  {
   "cell_type": "markdown",
   "id": "59d1ba6d-f752-4261-be4b-917db30a4813",
   "metadata": {},
   "source": [
    "Solution:\n",
    "\n",
    "Data can be classified into two types, i.e. qualitative and quantitative data. \n",
    "\n",
    "Quantitative Data is that data on which arithematic operations can be performed like addition, subtraction, multiplication, division, etc. Quantitative Data is usually in the form of numbers.\n",
    "\n",
    "Quantitative Data can be further divided into two categories, i.e. Discrete and Continuous.\n",
    "Discrete data consists of values that are whole numbers or within defined boundaries.\n",
    "Example: Number of hospitalizations.\n",
    "Continuous data consists of continuous values, thus it means it contain decimal values as well.\n",
    "Example: Temperature\n",
    "\n",
    "\n",
    "\n",
    "Qualitative Data is the data in which the data is divided into fixed set of categories. Qualitative Data is also known as Categorical Data. \n",
    "\n",
    "Qualitative data can be further classified into two types, i.e. Nominal and Ordinal.\n",
    "Nominal Data consists of data, for which the order doesn't matter and the rank can't be assigned. \n",
    "Example: Gender, Marital Status\n",
    "Ordinal Data consists of data, for which the order and the rank matters, based on hierarachy. The intervals and the differences of such data are not well defined.\n",
    "Example: IQ level, Qualification level."
   ]
  },
  {
   "cell_type": "code",
   "execution_count": null,
   "id": "46096677-6ef1-484d-b005-3fa90e8633f4",
   "metadata": {},
   "outputs": [],
   "source": []
  },
  {
   "cell_type": "markdown",
   "id": "80b0306a-a7f9-41b5-bf89-6eb999d64b33",
   "metadata": {},
   "source": [
    "Q4. Categorise the following datasets with respect to quantitative and qualitative data types:\n",
    "\n",
    "(i) Grading in exam: A+, A, B+, B, C+, C, D, E\n",
    "\n",
    "(ii) Colour of mangoes: yellow, green, orange, red\n",
    "\n",
    "(iii) Height data of a class: [178.9, 179, 179.5, 176, 177.2, 178.3, 175.8,...]\n",
    "\n",
    "(iv) Number of mangoes exported by a farm: [500, 600, 478, 672, ...]"
   ]
  },
  {
   "cell_type": "markdown",
   "id": "efa12003-8cab-4ad8-8406-14fa86596e8e",
   "metadata": {},
   "source": [
    "Solution: \n",
    "\n",
    "(i)   Qualitative - Ordinal\n",
    "\n",
    "(ii)  Qualitative - Nominal\n",
    "\n",
    "(iii) Quantitative - Continuous\n",
    "\n",
    "(iv)  Quantitative - Discrete"
   ]
  },
  {
   "cell_type": "code",
   "execution_count": null,
   "id": "9c739fa1-7c24-4194-9638-a468c168f459",
   "metadata": {},
   "outputs": [],
   "source": []
  },
  {
   "cell_type": "markdown",
   "id": "9d6c8ccf-7ae5-48c8-a40b-ab2ce2cb4820",
   "metadata": {},
   "source": [
    "Q5. Explain the concept of levels of measurement and give an example of a variable for each level."
   ]
  },
  {
   "cell_type": "markdown",
   "id": "6df7eec4-72dd-4d61-9331-1813a55bfedf",
   "metadata": {},
   "source": [
    "Solution: \n",
    "\n",
    "The levels of measurements or the scale of measurements is the way to categorize, collect and analyze the data.\n",
    "In statistics, we have four scales of measurements i.e. Nominal Scale, Ordinal Scale, Interval Scale and Ratio Scale. \n",
    "\n",
    "The key features of each of them are as follows:\n",
    "\n",
    "(i) Nominal Scale :\n",
    "- Data involved in this scale are from the Qualitative Data.\n",
    "- Order doesn't matter and the ranks can't be defined.\n",
    "\n",
    "(ii) Ordinal Scale :\n",
    "- Ranking and Order matters.\n",
    "- Difference / Interval between cannot be measured.\n",
    "\n",
    "(iii) Interval Scale:\n",
    "- Rank and Order matters.\n",
    "- Differnce can be easily measured, but ratios can't be measured.\n",
    "- It doesn't have zeros as starting values, since it can hold negative data points as well. \n",
    "\n",
    "(iv) Ratio Scale: \n",
    "- Order and Rank matters.\n",
    "- Both differences and ratios are measurable.\n",
    "- It have zeros as starting values."
   ]
  },
  {
   "cell_type": "code",
   "execution_count": null,
   "id": "9c25f31b-5bb0-4a17-9df7-a49e38bf0fcc",
   "metadata": {},
   "outputs": [],
   "source": []
  },
  {
   "cell_type": "markdown",
   "id": "566fa036-98af-49e0-b776-79e2a36735b5",
   "metadata": {},
   "source": [
    "Q6. Why is it important to understand the level of measurement when analyzing data? Provide an\n",
    "example to illustrate your answer."
   ]
  },
  {
   "cell_type": "markdown",
   "id": "0294c813-1757-444c-b3c3-4249e5ce9439",
   "metadata": {},
   "source": [
    "Solution: \n",
    "    \n",
    "It is important to understand the level of measurement because it helps in selecting the appropriate method that will be used in statistical analysis and the helps in drawing meaningful conclusions that can be extracted from the dataset and avoiding misinterpretations of the data's properties and relationships.\n",
    "\n",
    "Example:\n",
    "Suppose a survey was conductef to analyze the performance of students in a class. Data was collected on various variables, including:\n",
    "\n",
    "- Gender (Nominal): Male or Female\n",
    "- Grade (Ordinal): A, B, C, D, F\n",
    "- Height in centimeters (Interval): Numeric values with a meaningful zero point but no true zero (e.g., a height of 0 cm does not imply the absence of height)\n",
    "- Weight in kilograms (Ratio): Numeric values with a true zero point (e.g., a weight of 0 kg means no weight)\n",
    "\n",
    "\n",
    "Gender (Nominal):\n",
    "\n",
    "Analysis: For gender, descriptive statistics like frequencies and percentages to determine the distribution of male and female students can be used. \n",
    "\n",
    "Grade (Ordinal):\n",
    "\n",
    "Analysis: For grade, measures of central tendency like the median to describe the typical grade level can be done and the mode can help in identifying the most common grade. \n",
    "\n",
    "Height in centimeters (Interval):\n",
    "\n",
    "Analysis: Since height is an interval variable,  measures of central tendency like the mean and standard deviation to describe the average height and its variability can be done. \n",
    "\n",
    "Weight in kilograms (Ratio):\n",
    "\n",
    "Analysis: As weight is a ratio variable, the full range of statistical analysis, like measures of central tendency (mean, median), measures of variability (standard deviation, range), etc can be done to understand more about weight distribution.\n",
    "\n",
    "Conclusion: \n",
    "\n",
    "If the ordinal data (grades) was treated as interval data and apply statistical methods like the mean or correlation analysis, it could draw incorrect conclusions. For example, interpreting the mean grade as an \"average grade point\" may not accurately represent the ordinal nature of the data, as there is no inherent numerical relationship between grades A, B, C, etc.\n",
    "\n",
    "Thus, it is important to understand the level of measurement to choose the correct statistical techniques for meaningful and accurate visualizations, analysis and more reliable and insightful conclusions.\n",
    "\n"
   ]
  },
  {
   "cell_type": "code",
   "execution_count": null,
   "id": "9cf15f71-f82f-402b-8ee5-27617771a583",
   "metadata": {},
   "outputs": [],
   "source": []
  },
  {
   "cell_type": "markdown",
   "id": "aed1c266-943f-48c9-8367-1cd0e5d15495",
   "metadata": {},
   "source": [
    "Q7. How nominal data type is different from ordinal data type."
   ]
  },
  {
   "cell_type": "markdown",
   "id": "37050e02-940e-4c5c-a39e-099f5144bb27",
   "metadata": {},
   "source": [
    "Solution: \n",
    "\n",
    "Nominal Data Type: \n",
    "-  Nominal data represents categories or labels with no inherent order or ranking. It provides a way to categorize data into distinct groups without any meaningful numerical value associated with them.\n",
    "- Example: Gender (male, female), Eye Color (blue, brown, green), or Car Brands (Toyota, Honda, Ford).\n",
    "\n",
    "\n",
    "Ordinal Data Type: \n",
    "- Ordinal data also represents categories or labels, but unlike nominal data, it has a natural order or ranking associated with the categories. The order indicates the relative position or preference between the categories.\n",
    "- Example: Educational levels (primary, secondary, tertiary), or Ratings (poor, fair, good, excellent).\n",
    "\n",
    "The measurement and analysis techniques for each data type are different."
   ]
  },
  {
   "cell_type": "code",
   "execution_count": null,
   "id": "15dd21e2-d67d-4d41-a699-b8ba642ad26f",
   "metadata": {},
   "outputs": [],
   "source": []
  },
  {
   "cell_type": "markdown",
   "id": "e2fb565e-23e3-4f75-b9f2-a603953a6a4c",
   "metadata": {},
   "source": [
    "Q8. Which type of plot can be used to display data in terms of range?"
   ]
  },
  {
   "cell_type": "markdown",
   "id": "fd98484b-5dba-4be7-a35c-4c3a8ba35442",
   "metadata": {},
   "source": [
    "Solution: \n",
    "    \n",
    "Bar charts, Line charts, Pie charts, Scatter plot, Box plot, Histogram, Stacked Bar chart, Grouped Bar chart, Dot plot, Area chart, Dual-axis chart, Bubble chart, Density curve, Violin plot, Funnel chart, map-based plots, etc are some of the types of plots that can be used to display the data in the terms of range."
   ]
  },
  {
   "cell_type": "code",
   "execution_count": null,
   "id": "840806c0-bf3d-4116-b0d4-fadd013f10a5",
   "metadata": {},
   "outputs": [],
   "source": []
  },
  {
   "cell_type": "markdown",
   "id": "093663a0-5157-448f-ab3d-2cd6d5576e99",
   "metadata": {},
   "source": [
    "Q9. Describe the difference between descriptive and inferential statistics. Give an example of each\n",
    "type of statistics and explain how they are used."
   ]
  },
  {
   "cell_type": "markdown",
   "id": "aa06f4ec-b0ad-48bf-bf59-3a4ce5fc6f74",
   "metadata": {},
   "source": [
    "Solution: \n",
    "    \n",
    "Descriptive statistics are used to summarize and describe data within a sample, providing insights into its characteristics, while Inferential statistics go beyond the sample to make inferences and predictions about a larger population based on the observed data. \n",
    "\n",
    "Descriptive statistics are primarily concerned with organizing, presenting, and analyzing the data in a meaningful way. They help researchers and analysts gain insights into the data's central tendency, dispersion, and distribution.\n",
    "\n",
    "Inferential statistics go beyond the sample to make inferences and predictions about a larger population based on the observed data. Inferential statistics use probability theory and sampling techniques to estimate population parameters and assess the likelihood of certain outcomes. \n",
    "\n",
    "\n",
    "Example of Descriptive Statistics: \n",
    "Suppose you have a dataset representing the ages of a group of people: [25, 30, 32, 40, 45]. Descriptive statistics for this dataset would involve calculating the mean (average) age, which is (25 + 30 + 32 + 40 + 45) / 5 = 34.4 years. The median (middle value) is 32 years, and the standard deviation measures the spread of the data around the mean, indicating how dispersed the ages are from the average.\n",
    "\n",
    "Example of Inferential Statistics:\n",
    "Suppose you want to investigate whether a new drug is more effective in reducing blood pressure compared to a placebo. You conduct a clinical trial with two groups: the treatment group receiving the drug, and the control group receiving the placebo. After collecting data, you analyze it using inferential statistics to determine if there is a significant difference in blood pressure reduction between the two groups.\n"
   ]
  },
  {
   "cell_type": "code",
   "execution_count": null,
   "id": "8d2166b3-4fa0-4561-a22c-c612cb0e8490",
   "metadata": {},
   "outputs": [],
   "source": []
  },
  {
   "cell_type": "markdown",
   "id": "6d60def1-af90-4ba5-a26d-f5c5fae5a485",
   "metadata": {},
   "source": [
    "Q10. What are some common measures of central tendency and variability used in statistics? Explain\n",
    "how each measure can be used to describe a dataset."
   ]
  },
  {
   "cell_type": "markdown",
   "id": "dad92047-fb55-43e4-aab6-2515a44987ce",
   "metadata": {},
   "source": [
    "Solution: \n",
    "    \n",
    "Common measures of central tendency are mean, median and mode.\n",
    "Common measures of variability are range, variance and standard deviation.\n",
    "\n",
    "Uses of the above stated are as follows:\n",
    "\n",
    "- Mean: The mean is useful for describing the average value of a dataset and is often used in inferential statistics for hypothesis testing.\n",
    "- Median: The median is the middle value in a dataset when the data points are arranged in ascending or descending order. It provides a representation of the typical value in the dataset.\n",
    "- Mode: The mode is the value that appears most frequently in the dataset. It is useful for identifying the most common category or value in a dataset.\n",
    "- Range: The range is the simplest measure of variability and is the difference between the maximum and minimum values in the dataset. It gives an indication of the spread of data over the entire range.\n",
    "- Variance: It provides a quantitative measure of how much the data points deviate from the mean. A larger variance indicates higher variability, while a smaller variance indicates more data points are close to the mean.\n",
    "- Standard Deviation: It measures the dispersion of data points around the mean. A smaller standard deviation indicates data points are tightly clustered around the mean, while a larger standard deviation indicates a more spread-out distribution."
   ]
  },
  {
   "cell_type": "code",
   "execution_count": null,
   "id": "3a8986a9-2d0d-4381-b3d3-e6fb833d217c",
   "metadata": {},
   "outputs": [],
   "source": []
  }
 ],
 "metadata": {
  "kernelspec": {
   "display_name": "Python 3 (ipykernel)",
   "language": "python",
   "name": "python3"
  },
  "language_info": {
   "codemirror_mode": {
    "name": "ipython",
    "version": 3
   },
   "file_extension": ".py",
   "mimetype": "text/x-python",
   "name": "python",
   "nbconvert_exporter": "python",
   "pygments_lexer": "ipython3",
   "version": "3.10.8"
  }
 },
 "nbformat": 4,
 "nbformat_minor": 5
}
